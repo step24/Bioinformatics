{
 "cells": [
  {
   "cell_type": "code",
   "execution_count": 2,
   "metadata": {},
   "outputs": [
    {
     "name": "stdout",
     "output_type": "stream",
     "text": [
      "Nepal: C    Malaysia: A  index: 6310\n",
      "Nepal: C    Malaysia: A  index: 6312\n",
      "Nepal: G    Malaysia: T  index: 11083\n",
      "Nepal: C    Malaysia: T  index: 13730\n",
      "Nepal: C    Malaysia: T  index: 19524\n",
      "Nepal: C    Malaysia: T  index: 23929\n",
      "Nepal: T    Malaysia: C  index: 24034\n",
      "Nepal: T    Malaysia: C  index: 25473\n",
      "Nepal: C    Malaysia: T  index: 28311\n",
      "9\n"
     ]
    }
   ],
   "source": [
    "with open('genomes/Nepal.fasta', 'r', encoding='UTF8') as nepal, open('genomes/Malaysia.fasta', 'r', encoding='UTF8') as malaysia:\n",
    "    nepal.readline()\n",
    "    ne = nepal.readlines()\n",
    "    ne_list = []\n",
    "    for i in range(len(ne)):\n",
    "        for j in range(len(ne[i])):\n",
    "            if ne[i][j] != '\\n':\n",
    "                ne_list.append(ne[i][j])\n",
    "    malaysia.readline()\n",
    "    ma = malaysia.readlines()\n",
    "    ma_list = []\n",
    "    for i in range(len(ma)):\n",
    "        for j in range(len(ma[i])):\n",
    "            if ma[i][j] != '\\n':\n",
    "                ma_list.append(ma[i][j])\n",
    "    #print(len(ma_list), len(ir_list))\n",
    "    count = 0\n",
    "    for i in range(len(ne_list)):\n",
    "        if ne_list[i] != ma_list[i]:\n",
    "            count += 1\n",
    "            print('Nepal:', ne_list[i], '   Malaysia:',\n",
    "                  ma_list[i], ' index:', i + 35 + 1)\n",
    "    print(count)"
   ]
  },
  {
   "cell_type": "code",
   "execution_count": null,
   "metadata": {},
   "outputs": [],
   "source": []
  }
 ],
 "metadata": {
  "kernelspec": {
   "display_name": "Python 3",
   "language": "python",
   "name": "python3"
  },
  "language_info": {
   "codemirror_mode": {
    "name": "ipython",
    "version": 3
   },
   "file_extension": ".py",
   "mimetype": "text/x-python",
   "name": "python",
   "nbconvert_exporter": "python",
   "pygments_lexer": "ipython3",
   "version": "3.7.0"
  }
 },
 "nbformat": 4,
 "nbformat_minor": 2
}
