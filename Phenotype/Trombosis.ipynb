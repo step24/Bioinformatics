{
 "cells": [
  {
   "cell_type": "code",
   "execution_count": 64,
   "metadata": {},
   "outputs": [
    {
     "name": "stdout",
     "output_type": "stream",
     "text": [
      "rs6025\t1\t169519049\tC\tC\n",
      "\n",
      "rs2066865\t4\t155525276\tG\tG\n",
      "\n",
      "rs2036914\t4\t187192481\tC\tC\n",
      "\n",
      "rs8176719\t9\t136132908\tD\tD\n",
      "\n",
      "rs1799963\t11\t46761055\tG\tG\n",
      "\n"
     ]
    }
   ],
   "source": [
    "with open('7746.ancestry.txt', 'r', encoding=\"utf-8\" ) as file, open('outFileTrombosis.txt', 'w', encoding='utf8') as outFileTrombosis:\n",
    "    for line in file:\n",
    "        if line[0] != '#':\n",
    "            nline = line[:line.index('\t')] #\t\n",
    "        if 'rs6025' == nline:\n",
    "            print(line, file=outFileTrombosis)\n",
    "            print(line)\n",
    "        elif 'rs1799963' == nline:\n",
    "            print(line, file=outFileTrombosis)\n",
    "            print(line)\n",
    "        elif 'rs8176719' == nline:\n",
    "            print(line, file=outFileTrombosis)\n",
    "            print(line)\n",
    "        elif 'rs2066865' == nline:\n",
    "            print(line, file=outFileTrombosis)\n",
    "            print(line)\n",
    "        elif 'rs2036914' == nline:\n",
    "            print(line, file=outFileTrombosis)\n",
    "            print(line)"
   ]
  }
 ],
 "metadata": {
  "kernelspec": {
   "display_name": "Python 3",
   "language": "python",
   "name": "python3"
  },
  "language_info": {
   "codemirror_mode": {
    "name": "ipython",
    "version": 3
   },
   "file_extension": ".py",
   "mimetype": "text/x-python",
   "name": "python",
   "nbconvert_exporter": "python",
   "pygments_lexer": "ipython3",
   "version": "3.7.0"
  }
 },
 "nbformat": 4,
 "nbformat_minor": 2
}
