{
 "cells": [
  {
   "cell_type": "code",
   "execution_count": 13,
   "metadata": {},
   "outputs": [
    {
     "name": "stdout",
     "output_type": "stream",
     "text": [
      "rs12203592\t6\t396321\tC\tC\n",
      "\n",
      "rs1393350\t11\t89011046\tG\tG\n",
      "\n",
      "rs1800407\t15\t28230318\tT\tC\n",
      "\n",
      "rs12913832\t15\t28365618\tA\tA\n",
      "\n"
     ]
    }
   ],
   "source": [
    "with open('7746.ancestry.txt', 'r', encoding=\"utf-8\" ) as file, open('outFileEyes.txt', 'w', encoding='utf8') as outFileEyes:\n",
    "    for line in file:\n",
    "        if line[0] != '#':\n",
    "            nline = line[:line.index('\t')]\n",
    "        if 'rs12913832' in line:\n",
    "            print(line, file=outFileEyes)\n",
    "            print(line)\n",
    "        elif 'rs1800407' in line:\n",
    "            print(line, file=outFileEyes)\n",
    "            print(line)\n",
    "        elif 'rs12896399' in line:\n",
    "            print(line, file=outFileEyes)\n",
    "            print(line)\n",
    "        elif 'rs16891982' in line:\n",
    "            print(line, file=outFileEyes)\n",
    "            print(line)\n",
    "        elif 'rs1393350' in line:\n",
    "            print(line, file=outFileEyes)\n",
    "            print(line)\n",
    "        elif 'rs12203592' in line:\n",
    "            print(line, file=outFileEyes)\n",
    "            print(line)"
   ]
  }
 ],
 "metadata": {
  "kernelspec": {
   "display_name": "Python 3",
   "language": "python",
   "name": "python3"
  },
  "language_info": {
   "codemirror_mode": {
    "name": "ipython",
    "version": 3
   },
   "file_extension": ".py",
   "mimetype": "text/x-python",
   "name": "python",
   "nbconvert_exporter": "python",
   "pygments_lexer": "ipython3",
   "version": "3.7.0"
  }
 },
 "nbformat": 4,
 "nbformat_minor": 2
}
